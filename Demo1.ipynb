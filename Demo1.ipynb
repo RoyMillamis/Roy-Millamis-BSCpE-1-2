{
  "nbformat": 4,
  "nbformat_minor": 0,
  "metadata": {
    "colab": {
      "name": "Demo1.ipynb",
      "provenance": [],
      "authorship_tag": "ABX9TyMQmIUDhZZwdKKeKUy36qr+",
      "include_colab_link": true
    },
    "kernelspec": {
      "name": "python3",
      "display_name": "Python 3"
    },
    "language_info": {
      "name": "python"
    }
  },
  "cells": [
    {
      "cell_type": "markdown",
      "metadata": {
        "id": "view-in-github",
        "colab_type": "text"
      },
      "source": [
        "<a href=\"https://colab.research.google.com/github/RoyMillamis/Roy-Millamis-BSCpE-1-2/blob/main/Demo1.ipynb\" target=\"_parent\"><img src=\"https://colab.research.google.com/assets/colab-badge.svg\" alt=\"Open In Colab\"/></a>"
      ]
    },
    {
      "cell_type": "markdown",
      "metadata": {
        "id": "KN7TwgvV7hm2"
      },
      "source": [
        "##Introduction to Python\n"
      ]
    },
    {
      "cell_type": "code",
      "metadata": {
        "colab": {
          "base_uri": "https://localhost:8080/"
        },
        "id": "rdGUxVrq7wW3",
        "outputId": "ae1c2792-bc4c-46c0-f440-ef5e33a57002"
      },
      "source": [
        "#Python Indention\n",
        "if 5>2:\n",
        "  print(\"five is greater than two!\")"
      ],
      "execution_count": 1,
      "outputs": [
        {
          "output_type": "stream",
          "name": "stdout",
          "text": [
            "five is greater than two!\n"
          ]
        }
      ]
    },
    {
      "cell_type": "code",
      "metadata": {
        "colab": {
          "base_uri": "https://localhost:8080/"
        },
        "id": "C1x9BLXm9kBr",
        "outputId": "c52fe225-b491-4049-b013-5486aa98c26b"
      },
      "source": [
        "x = 1   # This is a single variable with single value\n",
        "x,y = 1,2 # these are two variables with two different values\n",
        "x,y,z= 1,2,3\n",
        "print(x)\n",
        "print(y)\n",
        "print(z)"
      ],
      "execution_count": 2,
      "outputs": [
        {
          "output_type": "stream",
          "name": "stdout",
          "text": [
            "1\n",
            "2\n",
            "3\n"
          ]
        }
      ]
    },
    {
      "cell_type": "code",
      "metadata": {
        "id": "HuWb7y6p-Na6"
      },
      "source": [
        ""
      ],
      "execution_count": null,
      "outputs": []
    },
    {
      "cell_type": "code",
      "metadata": {
        "colab": {
          "base_uri": "https://localhost:8080/",
          "height": 35
        },
        "id": "2Z_eRgYJ-NkE",
        "outputId": "f3eaa478-7ef6-4917-b355-1cbdc90d2ff2"
      },
      "source": [
        "x,y=\"four\",2\n",
        "x\n",
        "y\n",
        "x"
      ],
      "execution_count": 5,
      "outputs": [
        {
          "output_type": "execute_result",
          "data": {
            "application/vnd.google.colaboratory.intrinsic+json": {
              "type": "string"
            },
            "text/plain": [
              "'four'"
            ]
          },
          "metadata": {},
          "execution_count": 5
        }
      ]
    },
    {
      "cell_type": "markdown",
      "metadata": {
        "id": "uOXjg9xZ-rzG"
      },
      "source": [
        "### Casting"
      ]
    },
    {
      "cell_type": "code",
      "metadata": {
        "colab": {
          "base_uri": "https://localhost:8080/"
        },
        "id": "J2gta0JU-uv9",
        "outputId": "9a46e49d-0acf-4601-ae4d-234f467a02f4"
      },
      "source": [
        "b = int(4)\n",
        "b\n",
        "c= float(4)\n",
        "c"
      ],
      "execution_count": 7,
      "outputs": [
        {
          "output_type": "execute_result",
          "data": {
            "text/plain": [
              "4.0"
            ]
          },
          "metadata": {},
          "execution_count": 7
        }
      ]
    },
    {
      "cell_type": "markdown",
      "metadata": {
        "id": "MGbzicPd_And"
      },
      "source": [
        "### Type Function"
      ]
    },
    {
      "cell_type": "code",
      "metadata": {
        "colab": {
          "base_uri": "https://localhost:8080/"
        },
        "id": "7XdMRs6K_Ehc",
        "outputId": "f089de76-38c2-44a9-a93a-0179af012db5"
      },
      "source": [
        "x=5\n",
        "y= \"John\" # This is a type of string\n",
        "h= \"ana\"\n",
        "H='Ana'\n",
        "print(type(x))\n",
        "print(type(y))\n",
        "print(h)\n",
        "print(H)"
      ],
      "execution_count": 12,
      "outputs": [
        {
          "output_type": "stream",
          "name": "stdout",
          "text": [
            "<class 'int'>\n",
            "<class 'str'>\n",
            "ana\n",
            "Ana\n"
          ]
        }
      ]
    },
    {
      "cell_type": "markdown",
      "metadata": {
        "id": "dIzMdWz4ACxX"
      },
      "source": [
        "## One Value to Multiple Variables"
      ]
    },
    {
      "cell_type": "code",
      "metadata": {
        "colab": {
          "base_uri": "https://localhost:8080/"
        },
        "id": "lXUqWc27AGng",
        "outputId": "ddb193b8-8c97-478c-d850-8fa03d76bbc6"
      },
      "source": [
        "x = y = z = 'four'\n",
        "print(x)\n",
        "print(y)\n",
        "print(z)"
      ],
      "execution_count": 14,
      "outputs": [
        {
          "output_type": "stream",
          "name": "stdout",
          "text": [
            "four\n",
            "four\n",
            "four\n"
          ]
        }
      ]
    },
    {
      "cell_type": "code",
      "metadata": {
        "colab": {
          "base_uri": "https://localhost:8080/"
        },
        "id": "Fzf6TTa6AeUk",
        "outputId": "fad3c9fb-204d-4317-dccb-db522e832ae7"
      },
      "source": [
        "x = \"enjoying\"\n",
        "print(\"Python Programming is\" \" \" + x)"
      ],
      "execution_count": 19,
      "outputs": [
        {
          "output_type": "stream",
          "name": "stdout",
          "text": [
            "Python Programming is enjoying\n"
          ]
        }
      ]
    },
    {
      "cell_type": "code",
      "metadata": {
        "colab": {
          "base_uri": "https://localhost:8080/"
        },
        "id": "lz8tZrErA-2B",
        "outputId": "6ee025a4-bf20-4bda-d720-60a652c9418a"
      },
      "source": [
        "x = 11\n",
        "y = 12\n",
        "z = 13\n",
        "print(x+y+z)"
      ],
      "execution_count": 21,
      "outputs": [
        {
          "output_type": "stream",
          "name": "stdout",
          "text": [
            "36\n"
          ]
        }
      ]
    },
    {
      "cell_type": "code",
      "metadata": {
        "colab": {
          "base_uri": "https://localhost:8080/"
        },
        "id": "tV9YKMcIBOIH",
        "outputId": "7c6dbd67-8a91-4f07-a8f4-00d83cd77c96"
      },
      "source": [
        "x+=3 #This is the same as x = +3\n",
        "print(x)"
      ],
      "execution_count": 22,
      "outputs": [
        {
          "output_type": "stream",
          "name": "stdout",
          "text": [
            "14\n"
          ]
        }
      ]
    },
    {
      "cell_type": "code",
      "metadata": {
        "colab": {
          "base_uri": "https://localhost:8080/"
        },
        "id": "vxtPJVm6-XSr",
        "outputId": "ef9b390d-5e78-45c5-9e8c-e4d6df3a0a15"
      },
      "source": [
        "y+=5\n",
        "print(y)"
      ],
      "execution_count": 25,
      "outputs": [
        {
          "output_type": "stream",
          "name": "stdout",
          "text": [
            "17\n"
          ]
        }
      ]
    },
    {
      "cell_type": "code",
      "metadata": {
        "colab": {
          "base_uri": "https://localhost:8080/"
        },
        "id": "YVYEtRv4BqDE",
        "outputId": "b0c4ea88-016f-48b1-b420-2951919b767a"
      },
      "source": [
        "x<y and x!=x # pag isang lang yung true false na"
      ],
      "execution_count": 31,
      "outputs": [
        {
          "output_type": "execute_result",
          "data": {
            "text/plain": [
              "False"
            ]
          },
          "metadata": {},
          "execution_count": 31
        }
      ]
    },
    {
      "cell_type": "code",
      "metadata": {
        "colab": {
          "base_uri": "https://localhost:8080/"
        },
        "id": "EoXtpYi6_B_d",
        "outputId": "76bd1d91-4882-4e74-d1e6-1e97a4c3741d"
      },
      "source": [
        "x>y or not y==z # kahit isa lang yung true, true paden"
      ],
      "execution_count": 38,
      "outputs": [
        {
          "output_type": "execute_result",
          "data": {
            "text/plain": [
              "True"
            ]
          },
          "metadata": {},
          "execution_count": 38
        }
      ]
    },
    {
      "cell_type": "code",
      "metadata": {
        "colab": {
          "base_uri": "https://localhost:8080/"
        },
        "id": "QRRVsPDY_awB",
        "outputId": "21154849-cfb0-4ea6-c5da-02928a5e608b"
      },
      "source": [
        "not(print(x>y))"
      ],
      "execution_count": 39,
      "outputs": [
        {
          "output_type": "stream",
          "name": "stdout",
          "text": [
            "False\n"
          ]
        },
        {
          "output_type": "execute_result",
          "data": {
            "text/plain": [
              "True"
            ]
          },
          "metadata": {},
          "execution_count": 39
        }
      ]
    },
    {
      "cell_type": "code",
      "metadata": {
        "colab": {
          "base_uri": "https://localhost:8080/"
        },
        "id": "MCXvXW07_4oN",
        "outputId": "c649995b-fac7-4d1e-cd07-c236c85bf8e0"
      },
      "source": [
        "#Identity operations\n",
        "print (x is y)\n",
        "print (x is not z)"
      ],
      "execution_count": 40,
      "outputs": [
        {
          "output_type": "stream",
          "name": "stdout",
          "text": [
            "False\n",
            "True\n"
          ]
        }
      ]
    }
  ]
}